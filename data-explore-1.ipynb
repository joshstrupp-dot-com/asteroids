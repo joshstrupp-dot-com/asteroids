{
 "cells": [
  {
   "cell_type": "code",
   "execution_count": 2,
   "metadata": {},
   "outputs": [
    {
     "name": "stdout",
     "output_type": "stream",
     "text": [
      "Columns in the asteroid dataset:\n",
      "['id', 'name', 'absolute_magnitude_h', 'estimated_diameter_meters', 'is_potentially_hazardous', 'is_sentry_object', 'close_approach_data']\n",
      "\n",
      "First 5 rows of the dataset:\n",
      "        id          name  absolute_magnitude_h  \\\n",
      "0  3092124     (1994 GL)                 25.50   \n",
      "1  3370497   (2007 EE26)                 26.10   \n",
      "2  3562324   (2011 GP44)                 24.40   \n",
      "3  3633049    (2013 FY7)                 22.51   \n",
      "4  3669221  (2014 HL123)                 22.48   \n",
      "\n",
      "                       estimated_diameter_meters  is_potentially_hazardous  \\\n",
      "0    {'min': 21.113244479, 'max': 47.2106498806}                     False   \n",
      "1   {'min': 16.0160337979, 'max': 35.8129403019}                     False   \n",
      "2   {'min': 35.0392641108, 'max': 78.3501764334}                     False   \n",
      "3  {'min': 83.6671501888, 'max': 187.0854353059}                     False   \n",
      "4  {'min': 84.8310761886, 'max': 189.6880529621}                     False   \n",
      "\n",
      "   is_sentry_object                                close_approach_data  \n",
      "0             False  [{'close_approach_date': '2025-03-23', 'close_...  \n",
      "1              True  [{'close_approach_date': '2025-03-23', 'close_...  \n",
      "2             False  [{'close_approach_date': '2025-03-23', 'close_...  \n",
      "3             False  [{'close_approach_date': '2025-03-23', 'close_...  \n",
      "4             False  [{'close_approach_date': '2025-03-23', 'close_...  \n"
     ]
    }
   ],
   "source": [
    "import json\n",
    "import pandas as pd\n",
    "\n",
    "# Load the asteroid data from JSON file\n",
    "with open('asteroid-data-2025-03-23.json', 'r') as file:\n",
    "    asteroid_data = json.load(file)\n",
    "\n",
    "# Convert to DataFrame if it's a structured format\n",
    "# If it's a nested JSON, we'll need to flatten it first\n",
    "try:\n",
    "    df = pd.DataFrame(asteroid_data)\n",
    "    print(\"Columns in the asteroid dataset:\")\n",
    "    print(df.columns.tolist())\n",
    "    \n",
    "    # Display the first few rows to understand the data structure\n",
    "    print(\"\\nFirst 5 rows of the dataset:\")\n",
    "    print(df.head())\n",
    "except:\n",
    "    # If direct conversion fails, print the structure of the JSON\n",
    "    print(\"JSON structure:\")\n",
    "    if isinstance(asteroid_data, dict):\n",
    "        print(\"Keys in the JSON:\", list(asteroid_data.keys()))\n",
    "    elif isinstance(asteroid_data, list):\n",
    "        print(f\"List with {len(asteroid_data)} items\")\n",
    "        if asteroid_data:\n",
    "            print(\"First item keys:\", list(asteroid_data[0].keys()))\n"
   ]
  },
  {
   "cell_type": "code",
   "execution_count": 3,
   "metadata": {},
   "outputs": [
    {
     "name": "stdout",
     "output_type": "stream",
     "text": [
      "\n",
      "=== Asteroids by Velocity (km/h) - Descending Order ===\n",
      "          id         name  kilometers_per_hour\n",
      "11  54431184    (2024 FB)         83486.465476\n",
      "0    3092124    (1994 GL)         79814.351017\n",
      "7   54132072    (2021 FP)         79091.748869\n",
      "1    3370497  (2007 EE26)         69076.226691\n",
      "5    3693145  (2014 TJ33)         66323.295898\n",
      "14  54523641   (2025 EL4)         63707.515473\n",
      "2    3562324  (2011 GP44)         55128.855022\n",
      "15  54524125   (2025 FY1)         51522.326626\n",
      "16  54524121   (2025 FC2)         48276.304141\n",
      "6    3841620   (2019 HM3)         47176.482290\n",
      "\n",
      "=== Asteroids by Miss Distance (km) - Descending Order ===\n",
      "          id          name    kilometers\n",
      "3    3633049    (2013 FY7)  7.309836e+07\n",
      "1    3370497   (2007 EE26)  7.222152e+07\n",
      "11  54431184     (2024 FB)  7.024197e+07\n",
      "0    3092124     (1994 GL)  5.298738e+07\n",
      "6    3841620    (2019 HM3)  3.936337e+07\n",
      "5    3693145   (2014 TJ33)  3.266293e+07\n",
      "4    3669221  (2014 HL123)  2.733897e+07\n",
      "12  54519239    (2025 CT2)  2.723678e+07\n",
      "7   54132072     (2021 FP)  2.685491e+07\n",
      "2    3562324   (2011 GP44)  2.505265e+07\n"
     ]
    }
   ],
   "source": [
    "# Extract close_approach_data and create a new DataFrame with velocity information\n",
    "asteroid_velocities = []\n",
    "\n",
    "for idx, asteroid in enumerate(asteroid_data):\n",
    "    # Check if close_approach_data exists and is not empty\n",
    "    if 'close_approach_data' in asteroid and asteroid['close_approach_data']:\n",
    "        # Get the first close approach data (assuming it's the most relevant)\n",
    "        approach = asteroid['close_approach_data'][0]\n",
    "        \n",
    "        # Extract the velocity in kilometers per hour\n",
    "        if 'relative_velocity' in approach and 'kilometers_per_hour' in approach['relative_velocity']:\n",
    "            asteroid_velocities.append({\n",
    "                'id': asteroid.get('id', f'Unknown-{idx}'),\n",
    "                'name': asteroid.get('name', f'Unnamed-{idx}'),\n",
    "                'kilometers_per_hour': float(approach['relative_velocity']['kilometers_per_hour']),\n",
    "                'kilometers': float(approach['miss_distance']['kilometers']) if 'miss_distance' in approach and 'kilometers' in approach['miss_distance'] else None\n",
    "            })\n",
    "\n",
    "# Convert to DataFrame\n",
    "velocity_df = pd.DataFrame(asteroid_velocities)\n",
    "\n",
    "# Sort by kilometers_per_hour in descending order and display\n",
    "print(\"\\n=== Asteroids by Velocity (km/h) - Descending Order ===\")\n",
    "velocity_sorted = velocity_df.sort_values(by='kilometers_per_hour', ascending=False)\n",
    "print(velocity_sorted[['id', 'name', 'kilometers_per_hour']].head(10))\n",
    "\n",
    "# Sort by miss distance in kilometers in descending order and display\n",
    "print(\"\\n=== Asteroids by Miss Distance (km) - Descending Order ===\")\n",
    "distance_sorted = velocity_df.sort_values(by='kilometers', ascending=False)\n",
    "print(distance_sorted[['id', 'name', 'kilometers']].head(10))\n"
   ]
  }
 ],
 "metadata": {
  "kernelspec": {
   "display_name": "my_env",
   "language": "python",
   "name": "my_env"
  },
  "language_info": {
   "codemirror_mode": {
    "name": "ipython",
    "version": 3
   },
   "file_extension": ".py",
   "mimetype": "text/x-python",
   "name": "python",
   "nbconvert_exporter": "python",
   "pygments_lexer": "ipython3",
   "version": "3.12.4"
  }
 },
 "nbformat": 4,
 "nbformat_minor": 2
}
